{
 "cells": [
  {
   "cell_type": "code",
   "execution_count": 1,
   "id": "427f8ffd-b6ea-4180-9535-7b66955ad20f",
   "metadata": {},
   "outputs": [],
   "source": [
    "import dataruns\n",
    "from dataruns.core.pipeline import *\n",
    "from dataruns.core.transforms import *\n",
    "from dataruns.source.datasource import *\n"
   ]
  },
  {
   "cell_type": "code",
   "execution_count": 2,
   "id": "a869bf67",
   "metadata": {},
   "outputs": [
    {
     "data": {
      "application/vnd.microsoft.datawrangler.viewer.v0+json": {
       "columns": [
        {
         "name": "index",
         "rawType": "int64",
         "type": "integer"
        },
        {
         "name": "name",
         "rawType": "object",
         "type": "string"
        },
        {
         "name": "price",
         "rawType": "object",
         "type": "string"
        },
        {
         "name": "quantity",
         "rawType": "object",
         "type": "string"
        }
       ],
       "conversionMethod": "pd.DataFrame",
       "ref": "4313d084-6f61-4917-a33c-5febd4f2070f",
       "rows": [
        [
         "0",
         "Phone",
         "100",
         "1"
        ],
        [
         "1",
         "Laptop",
         "1000",
         "3"
        ],
        [
         "2",
         "Cable",
         "10",
         "5"
        ],
        [
         "3",
         "Mouse",
         "50",
         "5"
        ],
        [
         "4",
         "Keyboard",
         "75",
         "5"
        ]
       ],
       "shape": {
        "columns": 3,
        "rows": 5
       }
      },
      "text/html": [
       "<div>\n",
       "<style scoped>\n",
       "    .dataframe tbody tr th:only-of-type {\n",
       "        vertical-align: middle;\n",
       "    }\n",
       "\n",
       "    .dataframe tbody tr th {\n",
       "        vertical-align: top;\n",
       "    }\n",
       "\n",
       "    .dataframe thead th {\n",
       "        text-align: right;\n",
       "    }\n",
       "</style>\n",
       "<table border=\"1\" class=\"dataframe\">\n",
       "  <thead>\n",
       "    <tr style=\"text-align: right;\">\n",
       "      <th></th>\n",
       "      <th>name</th>\n",
       "      <th>price</th>\n",
       "      <th>quantity</th>\n",
       "    </tr>\n",
       "  </thead>\n",
       "  <tbody>\n",
       "    <tr>\n",
       "      <th>0</th>\n",
       "      <td>Phone</td>\n",
       "      <td>100</td>\n",
       "      <td>1</td>\n",
       "    </tr>\n",
       "    <tr>\n",
       "      <th>1</th>\n",
       "      <td>Laptop</td>\n",
       "      <td>1000</td>\n",
       "      <td>3</td>\n",
       "    </tr>\n",
       "    <tr>\n",
       "      <th>2</th>\n",
       "      <td>Cable</td>\n",
       "      <td>10</td>\n",
       "      <td>5</td>\n",
       "    </tr>\n",
       "    <tr>\n",
       "      <th>3</th>\n",
       "      <td>Mouse</td>\n",
       "      <td>50</td>\n",
       "      <td>5</td>\n",
       "    </tr>\n",
       "    <tr>\n",
       "      <th>4</th>\n",
       "      <td>Keyboard</td>\n",
       "      <td>75</td>\n",
       "      <td>5</td>\n",
       "    </tr>\n",
       "  </tbody>\n",
       "</table>\n",
       "</div>"
      ],
      "text/plain": [
       "       name price quantity\n",
       "0     Phone   100        1\n",
       "1    Laptop  1000        3\n",
       "2     Cable    10        5\n",
       "3     Mouse    50        5\n",
       "4  Keyboard    75        5"
      ]
     },
     "execution_count": 2,
     "metadata": {},
     "output_type": "execute_result"
    }
   ],
   "source": [
    "data = CSVSource(\"data.csv\").extract_data()\n",
    "data.head()"
   ]
  },
  {
   "cell_type": "code",
   "execution_count": 3,
   "id": "9504d8db",
   "metadata": {},
   "outputs": [],
   "source": [
    "def add(x):\n",
    "    return x + 1\n",
    "\n",
    "def power(x):\n",
    "    return x ** 2"
   ]
  },
  {
   "cell_type": "code",
   "execution_count": 4,
   "id": "3e53f2d3",
   "metadata": {},
   "outputs": [
    {
     "data": {
      "text/plain": [
       "0    1\n",
       "1    3\n",
       "2    5\n",
       "3    5\n",
       "4    5\n",
       "Name: quantity, dtype: int32"
      ]
     },
     "execution_count": 4,
     "metadata": {},
     "output_type": "execute_result"
    }
   ],
   "source": [
    "data[\"quantity\"] = data[\"quantity\"].to_numpy('int32')\n",
    "data[\"quantity\"]"
   ]
  },
  {
   "cell_type": "code",
   "execution_count": 5,
   "id": "6030fdae",
   "metadata": {},
   "outputs": [
    {
     "data": {
      "text/plain": [
       "Pipeline(\n",
       "    Function[add]\n",
       "    Function[power]\n",
       "    Function[add, power]\n",
       ")"
      ]
     },
     "execution_count": 5,
     "metadata": {},
     "output_type": "execute_result"
    }
   ],
   "source": [
    "listed = Function([add, power])\n",
    "pipe = Pipeline(add, power, listed)\n",
    "pipe"
   ]
  },
  {
   "cell_type": "code",
   "execution_count": 8,
   "id": "7cbe5169",
   "metadata": {},
   "outputs": [
    {
     "data": {
      "text/plain": [
       "(dataruns.core.types.Function,\n",
       " dataruns.core.pipeline.Pipeline,\n",
       " Function[add, power])"
      ]
     },
     "execution_count": 8,
     "metadata": {},
     "output_type": "execute_result"
    }
   ],
   "source": [
    "type(listed), type(pipe), listed"
   ]
  },
  {
   "cell_type": "code",
   "execution_count": 9,
   "id": "12ca4026",
   "metadata": {},
   "outputs": [],
   "source": [
    "data[\"quantity\"] = pipe(data[\"quantity\"])"
   ]
  },
  {
   "cell_type": "code",
   "execution_count": 10,
   "id": "10c7ce3a",
   "metadata": {},
   "outputs": [
    {
     "data": {
      "text/plain": [
       "0      16\n",
       "1     256\n",
       "2    1296\n",
       "3    1296\n",
       "4    1296\n",
       "Name: quantity, dtype: int32"
      ]
     },
     "execution_count": 10,
     "metadata": {},
     "output_type": "execute_result"
    }
   ],
   "source": [
    "data[\"quantity\"]"
   ]
  },
  {
   "cell_type": "code",
   "execution_count": 11,
   "id": "bedbcac4",
   "metadata": {},
   "outputs": [],
   "source": [
    "data[\"price\"] = data[\"price\"].to_numpy('int32')"
   ]
  },
  {
   "cell_type": "code",
   "execution_count": 12,
   "id": "7da0feaf",
   "metadata": {},
   "outputs": [
    {
     "data": {
      "text/plain": [
       "0     100\n",
       "1    1000\n",
       "2      10\n",
       "3      50\n",
       "4      75\n",
       "Name: price, dtype: int32"
      ]
     },
     "execution_count": 12,
     "metadata": {},
     "output_type": "execute_result"
    }
   ],
   "source": [
    "data[\"price\"]"
   ]
  },
  {
   "cell_type": "code",
   "execution_count": 13,
   "id": "f73289bc",
   "metadata": {},
   "outputs": [
    {
     "data": {
      "text/plain": [
       "0     104060401\n",
       "1   -1016343263\n",
       "2         14641\n",
       "3       6765201\n",
       "4      33362176\n",
       "Name: price, dtype: int32"
      ]
     },
     "execution_count": 13,
     "metadata": {},
     "output_type": "execute_result"
    }
   ],
   "source": [
    "data[\"price\"] = pipe(data[\"price\"])\n",
    "data[\"price\"]"
   ]
  },
  {
   "cell_type": "code",
   "execution_count": 14,
   "id": "4c7a10ee",
   "metadata": {},
   "outputs": [
    {
     "data": {
      "text/plain": [
       "Pipeline(\n",
       "    Function[add]\n",
       "    Function[power]\n",
       "    Function[add, power]\n",
       ")"
      ]
     },
     "execution_count": 14,
     "metadata": {},
     "output_type": "execute_result"
    }
   ],
   "source": [
    "pipe"
   ]
  },
  {
   "cell_type": "code",
   "execution_count": null,
   "id": "11e70021",
   "metadata": {},
   "outputs": [],
   "source": []
  }
 ],
 "metadata": {
  "kernelspec": {
   "display_name": ".venv",
   "language": "python",
   "name": "python3"
  },
  "language_info": {
   "codemirror_mode": {
    "name": "ipython",
    "version": 3
   },
   "file_extension": ".py",
   "mimetype": "text/x-python",
   "name": "python",
   "nbconvert_exporter": "python",
   "pygments_lexer": "ipython3",
   "version": "3.12.7"
  }
 },
 "nbformat": 4,
 "nbformat_minor": 5
}
